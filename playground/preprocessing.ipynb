{
 "cells": [
  {
   "cell_type": "code",
   "execution_count": 4,
   "metadata": {},
   "outputs": [],
   "source": [
    "import numpy as np\n",
    "import pandas as pd"
   ]
  },
  {
   "cell_type": "code",
   "execution_count": 10,
   "metadata": {},
   "outputs": [
    {
     "name": "stdout",
     "output_type": "stream",
     "text": [
      "Number of images:  41716\n"
     ]
    }
   ],
   "source": [
    "import os \n",
    "import sys\n",
    "\n",
    "# count the number of images in the directory\n",
    "image_dir = \"../data/images/pixilart/\"\n",
    "image_files = os.listdir(image_dir)\n",
    "num_images = len(image_files)\n",
    "print(\"Number of images: \", num_images)\n"
   ]
  },
  {
   "cell_type": "code",
   "execution_count": 18,
   "metadata": {},
   "outputs": [],
   "source": [
    "import csv\n",
    "\n",
    "csv_file = \"../data/pixilart.csv\"\n",
    "\n",
    "with open(csv_file, 'r') as lines:\n",
    "    for l in csv.reader(lines, quotechar='\"', delimiter=',', quoting=csv.QUOTE_ALL, skipinitialspace=True):\n",
    "        if len(l) != 9:\n",
    "            print(\"Error: \", l)"
   ]
  },
  {
   "cell_type": "code",
   "execution_count": 21,
   "metadata": {},
   "outputs": [
    {
     "data": {
      "text/html": [
       "<div>\n",
       "<style scoped>\n",
       "    .dataframe tbody tr th:only-of-type {\n",
       "        vertical-align: middle;\n",
       "    }\n",
       "\n",
       "    .dataframe tbody tr th {\n",
       "        vertical-align: top;\n",
       "    }\n",
       "\n",
       "    .dataframe thead th {\n",
       "        text-align: right;\n",
       "    }\n",
       "</style>\n",
       "<table border=\"1\" class=\"dataframe\">\n",
       "  <thead>\n",
       "    <tr style=\"text-align: right;\">\n",
       "      <th></th>\n",
       "      <th>index</th>\n",
       "      <th>column_count</th>\n",
       "      <th>row_count</th>\n",
       "      <th>pixel_size</th>\n",
       "      <th>title</th>\n",
       "      <th>description</th>\n",
       "      <th>likes</th>\n",
       "      <th>comments</th>\n",
       "      <th>url</th>\n",
       "    </tr>\n",
       "  </thead>\n",
       "  <tbody>\n",
       "    <tr>\n",
       "      <th>0</th>\n",
       "      <td>2</td>\n",
       "      <td>28</td>\n",
       "      <td>16</td>\n",
       "      <td>39</td>\n",
       "      <td>A beautiful house!</td>\n",
       "      <td>Such a nice house.</td>\n",
       "      <td>1236</td>\n",
       "      <td>350</td>\n",
       "      <td>https://art.pixilart.com/2.png</td>\n",
       "    </tr>\n",
       "    <tr>\n",
       "      <th>1</th>\n",
       "      <td>3</td>\n",
       "      <td>28</td>\n",
       "      <td>16</td>\n",
       "      <td>39</td>\n",
       "      <td>Hello Kitty</td>\n",
       "      <td>NaN</td>\n",
       "      <td>24</td>\n",
       "      <td>24</td>\n",
       "      <td>https://art.pixilart.com/3.png</td>\n",
       "    </tr>\n",
       "    <tr>\n",
       "      <th>2</th>\n",
       "      <td>4</td>\n",
       "      <td>28</td>\n",
       "      <td>16</td>\n",
       "      <td>39</td>\n",
       "      <td>Dragon</td>\n",
       "      <td>NaN</td>\n",
       "      <td>18</td>\n",
       "      <td>7</td>\n",
       "      <td>https://art.pixilart.com/4.png</td>\n",
       "    </tr>\n",
       "    <tr>\n",
       "      <th>3</th>\n",
       "      <td>5</td>\n",
       "      <td>28</td>\n",
       "      <td>16</td>\n",
       "      <td>39</td>\n",
       "      <td>Two Players!</td>\n",
       "      <td>NaN</td>\n",
       "      <td>21</td>\n",
       "      <td>11</td>\n",
       "      <td>https://art.pixilart.com/5.png</td>\n",
       "    </tr>\n",
       "    <tr>\n",
       "      <th>4</th>\n",
       "      <td>6</td>\n",
       "      <td>42</td>\n",
       "      <td>24</td>\n",
       "      <td>26</td>\n",
       "      <td>Link</td>\n",
       "      <td>NaN</td>\n",
       "      <td>12</td>\n",
       "      <td>4</td>\n",
       "      <td>https://art.pixilart.com/9ccb717aab.png</td>\n",
       "    </tr>\n",
       "  </tbody>\n",
       "</table>\n",
       "</div>"
      ],
      "text/plain": [
       "   index   column_count   row_count   pixel_size               title  \\\n",
       "0      2             28          16           39  A beautiful house!   \n",
       "1      3             28          16           39         Hello Kitty   \n",
       "2      4             28          16           39              Dragon   \n",
       "3      5             28          16           39        Two Players!   \n",
       "4      6             42          24           26                Link   \n",
       "\n",
       "          description   likes   comments  \\\n",
       "0  Such a nice house.    1236        350   \n",
       "1                 NaN      24         24   \n",
       "2                 NaN      18          7   \n",
       "3                 NaN      21         11   \n",
       "4                 NaN      12          4   \n",
       "\n",
       "                                       url  \n",
       "0           https://art.pixilart.com/2.png  \n",
       "1           https://art.pixilart.com/3.png  \n",
       "2           https://art.pixilart.com/4.png  \n",
       "3           https://art.pixilart.com/5.png  \n",
       "4  https://art.pixilart.com/9ccb717aab.png  "
      ]
     },
     "execution_count": 21,
     "metadata": {},
     "output_type": "execute_result"
    }
   ],
   "source": [
    "\n",
    "\n",
    "df = pd.read_csv(csv_file)\n",
    "\n",
    "df.head()"
   ]
  },
  {
   "cell_type": "code",
   "execution_count": null,
   "metadata": {},
   "outputs": [],
   "source": []
  },
  {
   "cell_type": "code",
   "execution_count": null,
   "metadata": {},
   "outputs": [],
   "source": []
  }
 ],
 "metadata": {
  "kernelspec": {
   "display_name": ".venv",
   "language": "python",
   "name": "python3"
  },
  "language_info": {
   "codemirror_mode": {
    "name": "ipython",
    "version": 3
   },
   "file_extension": ".py",
   "mimetype": "text/x-python",
   "name": "python",
   "nbconvert_exporter": "python",
   "pygments_lexer": "ipython3",
   "version": "3.11.4"
  }
 },
 "nbformat": 4,
 "nbformat_minor": 2
}
